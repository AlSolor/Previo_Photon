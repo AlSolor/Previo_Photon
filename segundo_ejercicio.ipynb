{
 "cells": [
  {
   "cell_type": "code",
   "execution_count": 24,
   "id": "373880f1-4fe8-4266-aea5-36f2f782eb13",
   "metadata": {},
   "outputs": [
    {
     "data": {
      "text/plain": [
       "[1, 5]"
      ]
     },
     "execution_count": 24,
     "metadata": {},
     "output_type": "execute_result"
    }
   ],
   "source": [
    "#Segundo ejercicio\n",
    "'''\n",
    "    Clase CommonStreamElements que permite recibir dos colas de mensajes, almacenar sus valores dependiendo de su origen.\n",
    "    Permite saber que valores existen en ambas colas.\n",
    "'''\n",
    "\n",
    "class CommonStreamElements: #Definición de la clase\n",
    "    def __init__(self): #Arreglos que almacena\n",
    "        self.l1 = []\n",
    "        self.l2 = []\n",
    "        self.l3 = []\n",
    "    def messageFromList1(self,elementos1): #Permite almacenar elementos que provienen de l1 en un solo arreglo\n",
    "        self.l1.extend(elementos1)\n",
    "    def messageFromList2(self,elementos2): #Permite almacenar elementos que provienen de l2 en un solo arreglo\n",
    "        self.l2.extend(elementos2)\n",
    "    def commonMessages(self): #Permite almacenar los valores que aparecen en ambas colas\n",
    "        for i in range(len(self.l1)):\n",
    "            if self.l1[i] in self.l2:\n",
    "                self.l3.append(self.l1[i])\n",
    "        return self.l3 #Retorna un arreglo con todos los valores repetidos en ambas colas\n",
    "\n",
    "mensajes = {'l1':[1,2,3,4,5],'l2':[1,5,6]} #Definición de las colas y su origen\n",
    "\n",
    "cse = CommonStreamElements()\n",
    "\n",
    "if 'l1' in mensajes:\n",
    "    cse.messageFromList1(mensajes['l1'])\n",
    "if 'l2' in mensajes:\n",
    "    cse.messageFromList2(mensajes['l2'])\n",
    "    \n",
    "cse.commonMessages()"
   ]
  }
 ],
 "metadata": {
  "kernelspec": {
   "display_name": "Python 3 (ipykernel)",
   "language": "python",
   "name": "python3"
  },
  "language_info": {
   "codemirror_mode": {
    "name": "ipython",
    "version": 3
   },
   "file_extension": ".py",
   "mimetype": "text/x-python",
   "name": "python",
   "nbconvert_exporter": "python",
   "pygments_lexer": "ipython3",
   "version": "3.9.5"
  }
 },
 "nbformat": 4,
 "nbformat_minor": 5
}
