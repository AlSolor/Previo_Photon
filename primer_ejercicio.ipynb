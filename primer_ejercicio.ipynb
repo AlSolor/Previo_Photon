{
 "cells": [
  {
   "cell_type": "code",
   "execution_count": 14,
   "id": "78393d2e-1790-4be0-839b-f14fe0fdb106",
   "metadata": {},
   "outputs": [
    {
     "name": "stdout",
     "output_type": "stream",
     "text": [
      "[1, 5]\n"
     ]
    }
   ],
   "source": [
    "import numpy as np #Importa numpy para facilitar la función\n",
    "\n",
    "#Creación de listas\n",
    "\n",
    "l1 = [1,2,3,4,5]\n",
    "l2 = [1,5,6]\n",
    "\n",
    "def common_elements(l1,l2):\n",
    "    l3 = np.array(np.intersect1d(l1,l2)) #Utiliza la función intersect1d para no requerir ciclos for\n",
    "    return l3.tolist() #Convertimos el arreglo de numpyarray a lista\n",
    "\n",
    "print(common_elements(l1,l2))"
   ]
  }
 ],
 "metadata": {
  "kernelspec": {
   "display_name": "Python 3 (ipykernel)",
   "language": "python",
   "name": "python3"
  },
  "language_info": {
   "codemirror_mode": {
    "name": "ipython",
    "version": 3
   },
   "file_extension": ".py",
   "mimetype": "text/x-python",
   "name": "python",
   "nbconvert_exporter": "python",
   "pygments_lexer": "ipython3",
   "version": "3.9.5"
  }
 },
 "nbformat": 4,
 "nbformat_minor": 5
}
